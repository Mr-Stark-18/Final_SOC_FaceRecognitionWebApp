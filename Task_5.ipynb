{
  "nbformat": 4,
  "nbformat_minor": 0,
  "metadata": {
    "colab": {
      "name": "Task 5.ipynb",
      "provenance": []
    },
    "kernelspec": {
      "name": "python3",
      "display_name": "Python 3"
    },
    "language_info": {
      "name": "python"
    }
  },
  "cells": [
    {
      "cell_type": "code",
      "metadata": {
        "colab": {
          "base_uri": "https://localhost:8080/"
        },
        "id": "cEngdH8EZaay",
        "outputId": "1f48a147-dcd2-44fd-960f-49902508441f"
      },
      "source": [
        "!pip install pafy\n",
        "!pip install youtube-dl"
      ],
      "execution_count": 2,
      "outputs": [
        {
          "output_type": "stream",
          "text": [
            "Collecting pafy\n",
            "  Downloading pafy-0.5.5-py2.py3-none-any.whl (35 kB)\n",
            "Installing collected packages: pafy\n",
            "Successfully installed pafy-0.5.5\n",
            "Collecting youtube-dl\n",
            "  Downloading youtube_dl-2021.6.6-py2.py3-none-any.whl (1.9 MB)\n",
            "\u001b[K     |████████████████████████████████| 1.9 MB 7.9 MB/s \n",
            "\u001b[?25hInstalling collected packages: youtube-dl\n",
            "Successfully installed youtube-dl-2021.6.6\n"
          ],
          "name": "stdout"
        }
      ]
    },
    {
      "cell_type": "code",
      "metadata": {
        "colab": {
          "base_uri": "https://localhost:8080/"
        },
        "id": "Pc82qK6VZrKi",
        "outputId": "af0a6309-4d7f-49e0-d305-76c4ac1a0109"
      },
      "source": [
        "from google.colab import drive\n",
        "drive.mount('/content/drive')"
      ],
      "execution_count": 3,
      "outputs": [
        {
          "output_type": "stream",
          "text": [
            "Mounted at /content/drive\n"
          ],
          "name": "stdout"
        }
      ]
    },
    {
      "cell_type": "code",
      "metadata": {
        "id": "IkamqC8LZ09d"
      },
      "source": [
        "import os\n",
        "path = '/content/drive/MyDrive/SoC2k21/'\n",
        "output_dir = '/content/drive/MyDrive/SoC2k21/'"
      ],
      "execution_count": 4,
      "outputs": []
    },
    {
      "cell_type": "code",
      "metadata": {
        "colab": {
          "base_uri": "https://localhost:8080/"
        },
        "id": "SiFjITfZaT00",
        "outputId": "a49f42a8-0fca-476f-aa92-3996e88127e6"
      },
      "source": [
        "import cv2\n",
        "import numpy as np\n",
        "import pafy\n",
        "import time\n",
        "\n",
        "from google.colab.patches import cv2_imshow\n",
        "\n",
        "n=10\n",
        "\n",
        "fourcc = cv2.VideoWriter_fourcc(*'XVID')\n",
        "w,h = 1280,720\n",
        "fourcc = cv2.VideoWriter_fourcc('m','p','4','v')\n",
        "output_fps=30\n",
        "output_movie = cv2.VideoWriter(os.path.join(output_dir,'output_video.avi'),fourcc,output_fps,(w,h))\n",
        "\n",
        "url = 'https://www.youtube.com/watch?v=iH1ZJVqJO3Y'\n",
        "vPafy = pafy.new(url)\n",
        "play = vPafy.getbest(preftype='mp4')\n",
        "\n",
        "cap = cv2.VideoCapture(play.url)\n",
        "cap.set(3,480)\n",
        "cap.set(4,640)\n",
        "\n",
        "MODEL_MEAN_VALUES = (78.4263377603,87.7689143744,114.895847746)\n",
        "age_list = ['(0,2)','(4,6)','(8,12)','(15,20)','(25,32)','(38,43)','(48,53)','(60,100)']\n",
        "\n",
        "gender_list =['Male','Female']\n",
        "\n",
        "def load_caffe_models():\n",
        "\n",
        "  age_net = cv2.dnn.readNetFromCaffe(os.path.join(path,'deploy_age.prototxt'),os.path.join(path,'age_net.caffemodel'))\n",
        "\n",
        "  gender_net = cv2.dnn.readNetFromCaffe(os.path.join(path,'deploy_gender.prototxt'),os.path.join(path,'gender_net.caffemodel'))\n",
        "\n",
        "  return (age_net, gender_net)\n",
        "\n",
        "def video_detector(age_net, gender_net):\n",
        "  font = cv2.FONT_HERSHEY_SIMPLEX\n",
        "  framecount=0\n",
        "  while framecount < n*output_fps:\n",
        "\n",
        "    ret, image = cap.read()\n",
        "    framecount = framecount+1\n",
        "\n",
        "    face_cascade = cv2.CascadeClassifier(cv2.data.haarcascades + 'haarcascade_frontalface_alt.xml')\n",
        "    eye_cascade = cv2.CascadeClassifier(cv2.data.haarcascades+'haarcascade_eye.xml')\n",
        "\n",
        "    gray = cv2.cvtColor(image,cv2.COLOR_BGR2GRAY)\n",
        "    faces=face_cascade.detectMultiScale(gray,1.1,5)\n",
        "    for (x,y,w,h)in faces:\n",
        "      cv2.rectangle(image,(x,y),(x+w,y+h),(255,255,0),2)\n",
        "\n",
        "      face_img = image[y:y+h,h:h+w].copy()\n",
        "      blob = cv2.dnn.blobFromImage(face_img,1,(227,227),MODEL_MEAN_VALUES,swapRB=False)\n",
        "\n",
        "      gender_net.setInput(blob)\n",
        "      gender_preds = gender_net.forward()\n",
        "      gender = gender_list[gender_preds[0].argmax()]\n",
        "\n",
        "      age_net.setInput(blob)\n",
        "      age_preds = age_net.forward()\n",
        "      age = age_list[age_preds[0].argmax()]\n",
        "\n",
        "      overlay_text = \"%s %s\" % (gender,age)\n",
        "      cv2.putText(image,overlay_text,(x,y),font,1,(255,255,255),2,cv2.LINE_AA)\n",
        "    output_movie.write(image)\n",
        "\n",
        "  output_movie.release()\n",
        "  print(framecount)\n",
        "\n",
        "age_net, gender_net = load_caffe_models()\n",
        "\n",
        "video_detector(age_net,gender_net)\n"
      ],
      "execution_count": 5,
      "outputs": [
        {
          "output_type": "stream",
          "text": [
            "300\n"
          ],
          "name": "stdout"
        }
      ]
    },
    {
      "cell_type": "code",
      "metadata": {
        "id": "wkkvaDz2ccPD"
      },
      "source": [
        ""
      ],
      "execution_count": null,
      "outputs": []
    }
  ]
}